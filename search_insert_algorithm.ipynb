{
  "nbformat": 4,
  "nbformat_minor": 0,
  "metadata": {
    "colab": {
      "provenance": [],
      "authorship_tag": "ABX9TyMG+SFJRmZig3/RtkrGm2wI",
      "include_colab_link": true
    },
    "kernelspec": {
      "name": "python3",
      "display_name": "Python 3"
    },
    "language_info": {
      "name": "python"
    }
  },
  "cells": [
    {
      "cell_type": "markdown",
      "metadata": {
        "id": "view-in-github",
        "colab_type": "text"
      },
      "source": [
        "<a href=\"https://colab.research.google.com/github/mahshid-khojandi/search-insert-algorithm/blob/main/search_insert_algorithm.ipynb\" target=\"_parent\"><img src=\"https://colab.research.google.com/assets/colab-badge.svg\" alt=\"Open In Colab\"/></a>"
      ]
    },
    {
      "cell_type": "code",
      "source": [
        "a = [1, 2, 3, 4, 5]\n",
        "def search(arr, num):\n",
        "    low = 0\n",
        "    high = len(arr) - 1\n",
        "    # We use this sign // to not have a percentage and rand number.\n",
        "    mid = high // 2\n",
        "    while low <= high:\n",
        "        if num > arr[mid]:\n",
        "            mid += 1\n",
        "            low = mid\n",
        "        else:\n",
        "            mid -= 1\n",
        "            high = mid\n",
        "    return low\n",
        "print(search(a, 2))\n"
      ],
      "metadata": {
        "colab": {
          "base_uri": "https://localhost:8080/"
        },
        "id": "mo4cpmZurKse",
        "outputId": "6be7ce75-9be0-4242-c199-77b465463b50"
      },
      "execution_count": 1,
      "outputs": [
        {
          "output_type": "stream",
          "name": "stdout",
          "text": [
            "1\n"
          ]
        }
      ]
    },
    {
      "cell_type": "markdown",
      "source": [
        "# **Explanation**\n",
        "\n",
        "---\n",
        "If the number does not exist in the list, this algorithm determines where the number would be placed if it were there\n",
        "\n",
        "**output**: 1"
      ],
      "metadata": {
        "id": "3welR-RnzS3K"
      }
    }
  ]
}